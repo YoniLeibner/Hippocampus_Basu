{
 "cells": [
  {
   "cell_type": "code",
   "execution_count": 11,
   "id": "2fe05fcf",
   "metadata": {},
   "outputs": [],
   "source": [
    "from neuron import h, gui\n",
    "import matplotlib.pyplot as plt\n",
    "import numpy as np\n",
    "from tqdm import tqdm"
   ]
  },
  {
   "cell_type": "code",
   "execution_count": 18,
   "id": "c1894663",
   "metadata": {},
   "outputs": [],
   "source": [
    "def lamda_to_um(diam, Ra, Rm, lamda_size):\n",
    "    lamda = np.sqrt((Rm/Ra) * (diam/10000.0/4))\n",
    "    return lamda*10000.0*lamda_size\n",
    "\n",
    "def l_to_L(l, sec):\n",
    "    Rm=1.0/sec.g_pas\n",
    "    lamda = np.sqrt((Rm/sec.Ra) * (sec.diam/10000.0/4))\n",
    "    return l/(lamda*10000)\n",
    "\n",
    "def get_model(L=1, diam=1, Cm=1, Rm=10000, Ra=100, e_pas=-70,add_soma=False, soma_diam=10):\n",
    "    assert L>0\n",
    "    model=dict()\n",
    "    model['base'] = h.Section()\n",
    "    model['base'].diam=diam\n",
    "    model['base'].L = lamda_to_um(model['base'].diam, Ra, Rm, L)\n",
    "\n",
    "    if add_soma:\n",
    "        model['soma'] = h.Section()    \n",
    "        model['base'].connect(model['soma'], 1)\n",
    "        model['soma'].L=model['soma'].diam=soma_diam\n",
    "    \n",
    "    for sec_name, sec in model.items():\n",
    "        sec.insert('pas')\n",
    "        sec.cm=Cm\n",
    "        sec.Ra=Ra\n",
    "        sec.g_pas = 1.0/Rm\n",
    "        sec.e_pas=e_pas        \n",
    "        sec.nseg = int(sec.L/10)+1\n",
    "        \n",
    "    return model\n",
    " \n",
    "def add_syn(seg, g_AMPA, g_NMDA, START_TIME=100, e=0):\n",
    "    # AMPA part\n",
    "    netstim = h.NetStim()\n",
    "    netstim.interval = 1\n",
    "    netstim.start = START_TIME\n",
    "    netstim.noise = 0\n",
    "    netstim.number = 1\n",
    "    AMPA = h.Exp2Syn(seg.x, sec=seg.sec)\n",
    "    AMPA_con = h.NetCon(netstim, AMPA)\n",
    "    AMPA.e = e\n",
    "    AMPA.tau1 = 0.3\n",
    "    AMPA.tau2 = 3\n",
    "    AMPA_con.weight[0] = g_AMPA\n",
    "    AMPA_con.delay = 0\n",
    "\n",
    "    # NMDA part\n",
    "    NMDA = h.NMDA(seg.x, sec=seg.sec)\n",
    "    NMDA_con = h.NetCon(netstim, NMDA)\n",
    "    NMDA.e = e\n",
    "    NMDA.tau_r_NMDA = 8\n",
    "    NMDA.tau_d_NMDA = 35\n",
    "    NMDA.n_NMDA = 0.27\n",
    "    NMDA.gama_NMDA = 0.076\n",
    "    NMDA_con.weight[0] = g_NMDA\n",
    "    NMDA_con.delay = 0\n",
    "    return [AMPA, AMPA_con], [NMDA, NMDA_con], netstim\n",
    "\n",
    "def get_neck_l(Ri, neck_diam, R_neck):\n",
    "    return R_neck/(4*Ri/(np.pi*neck_diam**2)/100)\n",
    "\n",
    "def add_spine(seg, R_neck=0):  # np.sqrt(2.8/(4*np.pi))\n",
    "    if R_neck<=0:\n",
    "        return [seg, seg]\n",
    "    neck_diam=0.25\n",
    "    neck_length = get_neck_l(Ri=seg.sec.Ra, neck_diam=neck_diam, R_neck=R_neck)\n",
    "    head_diam = 0.944\n",
    "    \n",
    "    neck = h.Section()\n",
    "    head = h.Section()\n",
    "\n",
    "    neck.L = neck_length\n",
    "    neck.diam = neck_diam\n",
    "    head.L = head.diam = head_diam\n",
    "    head.connect(neck(1))\n",
    "    neck.connect(seg)\n",
    "    for sec in [neck, head]:\n",
    "        sec.insert(\"pas\")\n",
    "        sec.g_pas = seg.g_pas\n",
    "        sec.e_pas = seg.e_pas\n",
    "        sec.cm= seg.cm\n",
    "        sec.Ra=seg.sec.Ra\n",
    "    return neck, head\n",
    "\n",
    "def add_synapse(seg, g_AMPA, g_NMDA, START_TIME=100, e=0, R_neck=150): \n",
    "        neck, head = add_spine(seg, R_neck=R_neck)\n",
    "        if not head == seg:\n",
    "            syn_seg = list(head)[-1]\n",
    "        else:\n",
    "            syn_seg = seg\n",
    "        syn = add_syn(syn_seg, g_AMPA, g_NMDA, START_TIME, e)\n",
    "        return syn, [neck, head]\n",
    "    \n",
    "def transfer_freq(seg1, seg2, freqs = np.exp(np.linspace(0, np.log(1000), 10000))):\n",
    "    imp = h.Impedance(seg1.x, sec=seg1.sec)\n",
    "    imp.loc(seg1.x, sec=seg1.sec)\n",
    "    transfer = []\n",
    "    for freq in freqs:\n",
    "        imp.compute(freq, 1)\n",
    "        transfer.append(imp.transfer(seg2.x, sec=seg2.sec))\n",
    "    return freqs, np.array(transfer)\n",
    "\n",
    "def get_dist_to_soma(seg, start=True):\n",
    "    if start:\n",
    "        start=False\n",
    "        total_dist = 0\n",
    "        for seg_i in seg.sec:\n",
    "            if seg_i.x<=seg.x:\n",
    "                total_dist+=l_to_L(seg.sec.L/seg.sec.nseg, seg.sec)\n",
    "    else:\n",
    "        total_dist=l_to_L(seg.sec.L, seg.sec)\n",
    "    if seg.sec.parentseg().sec.name() == 'soma':\n",
    "        return total_dist\n",
    "    return total_dist+get_dist_to_soma(seg.sec.parentseg(), start=start)\n",
    "\n",
    "def get_dist_to_start(seg, start=True):\n",
    "    total_dist=0\n",
    "    for seg_i in seg.sec:\n",
    "        if seg_i.x<=seg.x:\n",
    "            total_dist+=l_to_L(seg.sec.L/seg.sec.nseg, seg.sec)\n",
    "    return total_dist\n",
    "    \n"
   ]
  },
  {
   "cell_type": "code",
   "execution_count": 19,
   "id": "6390f46a",
   "metadata": {},
   "outputs": [],
   "source": [
    "def run_step(model, syn, seg, g_AMPA=0.0004, g_NMDA=0.0012):\n",
    "    \n",
    "#     [AMPA, AMPA_con], [NMDA, NMDA_con], netstim\n",
    "    syn[0][0].loc(seg)\n",
    "    syn[1][0].loc(seg)\n",
    "    syn[0][1].weight[0] = g_AMPA\n",
    "    syn[1][1].weight[0] = g_NMDA\n",
    "    \n",
    "    T = h.Vector()\n",
    "    V = h.Vector()\n",
    "    T.record(h._ref_t)\n",
    "    if 'soma' in model:\n",
    "        V.record(model['soma'](0.5)._ref_v)\n",
    "        h.v_init=model['soma'].e_pas\n",
    "    else:\n",
    "        V.record(list(model['base'])[0]._ref_v)\n",
    "        h.v_init=model['base'].e_pas\n",
    "\n",
    "        \n",
    "    h.tstop = 200\n",
    "    h.run()\n",
    "    T = np.array(T)\n",
    "    V = np.array(V)\n",
    "    return T, V\n",
    "\n",
    "\n",
    "def run(L=10, diam=1, g_AMPA=0.0004, g_NMDA=0.0012, g_mul=np.arange(0, 5, 0.2), poses = np.arange(0, 1, 0.01)):\n",
    "    \n",
    "    model = get_model(L=L, diam=diam, Cm=1, Rm=10000, Ra=100, e_pas=-70,add_soma=False, soma_diam=10)\n",
    "    seg_list = list(model['base'])\n",
    "    seg = list(model['base'])[0]\n",
    "    \n",
    "    syn = add_syn(seg, g_AMPA, g_NMDA, START_TIME=100, e=0)\n",
    "    res = np.zeros((len(poses), len(g_mul)))\n",
    "    for i, mul in tqdm(enumerate(g_mul), desc='mul', total=len(g_mul)):\n",
    "        for j, pos in enumerate(poses):\n",
    "            seg = seg_list[int(len(seg_list)*pos)]\n",
    "            T, V = run_step(model, syn, seg, g_AMPA=g_AMPA*mul, g_NMDA=g_NMDA*mul)\n",
    "            res[j,i] = V.max()-V.min()\n",
    "    return res\n",
    "            "
   ]
  },
  {
   "cell_type": "code",
   "execution_count": 30,
   "id": "91c7cb54",
   "metadata": {},
   "outputs": [
    {
     "name": "stderr",
     "output_type": "stream",
     "text": [
      "mul: 100%|██████████████████████████████████████████████████████████████████████████████████████████████████████████████████████████████████████████████████████████████████████| 40/40 [1:20:03<00:00, 120.08s/it]\n"
     ]
    }
   ],
   "source": [
    "\n",
    "g_mul=np.arange(0, 20, 0.5)\n",
    "poses = np.arange(0, 1, 0.005)\n",
    "res=run(L=5, \n",
    "        diam=1, \n",
    "        g_AMPA=0.0004, \n",
    "        g_NMDA=0.0012, \n",
    "        g_mul=g_mul, \n",
    "        poses = poses)"
   ]
  },
  {
   "cell_type": "code",
   "execution_count": 31,
   "id": "2d4f5186",
   "metadata": {},
   "outputs": [
    {
     "data": {
      "image/png": "[encoded data removed]",
      "text/plain": [
       "<Figure size 640x480 with 2 Axes>"
      ]
     },
     "metadata": {},
     "output_type": "display_data"
    }
   ],
   "source": [
    "plt.pcolormesh(g_mul, poses*2, res, cmap='turbo')\n",
    "cax=plt.colorbar()\n",
    "cax.ax.set_ylabel('peak response (mV)')\n",
    "plt.xlabel('mul factor (0.4 AMPA and 1.2 NMDA)')\n",
    "plt.ylabel('syn location on the cable (\\u03BB)')\n",
    "plt.savefig('simple_model_respose_in_cable_of_5_lamda')\n",
    "plt.savefig('simple_model_respose_in_cable_of_5_lamda.pdf')"
   ]
  },
  {
   "cell_type": "code",
   "execution_count": 25,
   "id": "44df53b4",
   "metadata": {},
   "outputs": [
    {
     "data": {
      "text/plain": [
       "<Axes: label='<colorbar>'>"
      ]
     },
     "execution_count": 25,
     "metadata": {},
     "output_type": "execute_result"
    }
   ],
   "source": [
    "cax.ax"
   ]
  },
  {
   "cell_type": "code",
   "execution_count": null,
   "id": "c066d77c",
   "metadata": {},
   "outputs": [],
   "source": []
  }
 ],
 "metadata": {
  "kernelspec": {
   "display_name": "Python 3 (ipykernel)",
   "language": "python",
   "name": "python3"
  },
  "language_info": {
   "codemirror_mode": {
    "name": "ipython",
    "version": 3
   },
   "file_extension": ".py",
   "mimetype": "text/x-python",
   "name": "python",
   "nbconvert_exporter": "python",
   "pygments_lexer": "ipython3",
   "version": "3.8.8"
  }
 },
 "nbformat": 4,
 "nbformat_minor": 5
}
